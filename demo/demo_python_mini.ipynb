{
 "cells": [
  {
   "cell_type": "code",
   "execution_count": 1,
   "id": "240c7a31-a7db-44f6-8938-19b4f069dce4",
   "metadata": {},
   "outputs": [],
   "source": [
    "from IPython.display import display, Image, Audio\n",
    "\n",
    "import cv2  # We're using OpenCV to read video, to install !pip install opencv-python\n",
    "import base64\n",
    "import time\n",
    "import os\n",
    "import requests\n",
    "import openai\n",
    "\n",
    "YOUR_GOOGLE_AI_STUDIO_API_KEY = \"XXXXXXXXXXXXXXXXXXXXXX\"\n"
   ]
  },
  {
   "cell_type": "code",
   "execution_count": 2,
   "id": "23016232-a7e2-40fb-81aa-7b9df08d22c3",
   "metadata": {},
   "outputs": [],
   "source": [
    "from openai import OpenAI\n",
    "import httpx\n",
    "client = OpenAI(api_key = YOUR_GOOGLE_AI_STUDIO_API_KEY)\n",
    "\n",
    "base_url = httpx.URL(\"http://localhost:8080/v1/\")\n",
    "client._base_url= base_url"
   ]
  },
  {
   "cell_type": "code",
   "execution_count": 3,
   "id": "2676905f-2fb1-4f17-8bc7-d231fb0cefde",
   "metadata": {},
   "outputs": [
    {
     "name": "stdout",
     "output_type": "stream",
     "text": [
      "Choice(finish_reason='stop', index=0, logprobs=None, message=ChatCompletionMessage(content=' The image shows a boardwalk through a lush green field on a bright day with blue skies.', role='assistant', function_call=None, tool_calls=None))\n"
     ]
    }
   ],
   "source": [
    "response = client.chat.completions.create(\n",
    "  model=\"gpt-4-vision-preview\",\n",
    "  messages=[\n",
    "    {\n",
    "      \"role\": \"user\",\n",
    "      \"content\": [\n",
    "        {\"type\": \"text\", \"text\": \"What’s in this image?\"},\n",
    "        {\n",
    "          \"type\": \"image_url\",\n",
    "          \"image_url\": {\n",
    "            \"url\": \"https://upload.wikimedia.org/wikipedia/commons/thumb/d/dd/Gfp-wisconsin-madison-the-nature-boardwalk.jpg/2560px-Gfp-wisconsin-madison-the-nature-boardwalk.jpg\",\n",
    "          },\n",
    "        },\n",
    "      ],\n",
    "    }\n",
    "  ],\n",
    "  max_tokens=300,\n",
    ")\n",
    "\n",
    "print(response.choices[0])"
   ]
  },
  {
   "cell_type": "code",
   "execution_count": 4,
   "id": "883649d7-774d-4dd7-bd70-4395280af0dd",
   "metadata": {},
   "outputs": [
    {
     "name": "stdout",
     "output_type": "stream",
     "text": [
      "ChatCompletionMessage(content=\"In the realm of code, where logic weaves,\\nRecursion's dance, a concept that cleaves.\\nA function, bold, within itself it calls,\\nTo unravel problems, breaking down their walls.\\n\\nLike Russian dolls, it delves within,\\nEach layer solved, new challenges begin.\\nWith grace and skill, it solves its own,\\nRevealing patterns, elegantly grown.\\n\\nA fractal's charm, in code expressed,\\nRepeating patterns, echoes intertwined, suggest\\nA tapestry of logic, intricate and grand,\\nRecursion's power, ever in demand.\\n\\nFrom sorting lists to solving mazes vast,\\nRecursion's touch, a marvel unsurpassed.\\nIt climbs the tree, or searches deep,\\nIts elegance, a programmer's keep.\\n\\nYet caution whispers, lest we stray,\\nFor infinite loops, a treacherous way.\\nWith care we tread, and boundaries define,\\nTo tame recursion's power, so divine.\\n\\nSo let us marvel at this tool so grand,\\nRecursion's dance, a symphony unplanned.\\nIn the realm of code, it weaves its spell,\\nA marvel of logic, stories untold, it tells.\", role='assistant', function_call=None, tool_calls=None)\n"
     ]
    }
   ],
   "source": [
    "completion = client.chat.completions.create(\n",
    "  model=\"gpt-3.5-turbo\",\n",
    "  messages=[\n",
    "    {\"role\": \"system\", \"content\": \"You are a poetic assistant, skilled in explaining complex programming concepts with creative flair.\"},\n",
    "    {\"role\": \"user\", \"content\": \"Compose a poem that explains the concept of recursion in programming.\"}\n",
    "  ]\n",
    ")\n",
    "\n",
    "print(completion.choices[0].message)"
   ]
  }
 ],
 "metadata": {
  "kernelspec": {
   "display_name": "Python 3 (ipykernel)",
   "language": "python",
   "name": "python3"
  },
  "language_info": {
   "codemirror_mode": {
    "name": "ipython",
    "version": 3
   },
   "file_extension": ".py",
   "mimetype": "text/x-python",
   "name": "python",
   "nbconvert_exporter": "python",
   "pygments_lexer": "ipython3",
   "version": "3.10.8"
  }
 },
 "nbformat": 4,
 "nbformat_minor": 5
}
